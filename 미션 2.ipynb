{
  "nbformat": 4,
  "nbformat_minor": 0,
  "metadata": {
    "colab": {
      "provenance": []
    },
    "kernelspec": {
      "name": "python3",
      "display_name": "Python 3"
    },
    "language_info": {
      "name": "python"
    }
  },
  "cells": [
    {
      "cell_type": "code",
      "execution_count": null,
      "metadata": {
        "colab": {
          "base_uri": "https://localhost:8080/"
        },
        "id": "DIVxTyUiiBh3",
        "outputId": "ad9300ed-682f-45c3-f10a-119e0564561f"
      },
      "outputs": [
        {
          "output_type": "execute_result",
          "data": {
            "text/plain": [
              "(91335, 39)"
            ]
          },
          "metadata": {},
          "execution_count": 8
        }
      ],
      "source": [
        "import pandas as pd\n",
        "df = pd.read_csv(\"https://raw.githubusercontent.com/corazzon/boostcourse-ds-510/master/data/medical_201909.csv.zip\", low_memory=False)\n",
        "df.shape"
      ]
    },
    {
      "cell_type": "markdown",
      "source": [
        "# Q1. 전국 시도별 약국수를 구해주세요!\n",
        "\n",
        "*   상권업종소분류명이 약국인 것을 찾아 빈도수를 구해주세요.\n",
        "*   이 때, value_counts, groupby, pivot_table 등 다양한 집계 방법을 통해 구해볼 수 있습니다. 각자 구하기 편한 방법을 통해 빈도수를 구합니다.\n",
        "\n",
        "\n"
      ],
      "metadata": {
        "id": "95YFa4f4iHL_"
      }
    },
    {
      "cell_type": "code",
      "source": [
        "# value_counts()\n",
        "df.loc[df[\"상권업종소분류명\"] == \"약국\", \"시도명\"].value_counts()\n",
        "# groupby\n",
        "df[df[\"상권업종소분류명\"] == \"약국\"].groupby(\"시도명\")[\"상호명\"].count().sort_values(ascending=False)"
      ],
      "metadata": {
        "colab": {
          "base_uri": "https://localhost:8080/"
        },
        "id": "QaNJI4qwiB8V",
        "outputId": "66e9a9d0-800d-4c13-dbea-182c3cce66fe"
      },
      "execution_count": null,
      "outputs": [
        {
          "output_type": "execute_result",
          "data": {
            "text/plain": [
              "시도명\n",
              "경기도        4510\n",
              "서울특별시      3579\n",
              "부산광역시      1130\n",
              "경상남도       1017\n",
              "인천광역시      1002\n",
              "경상북도        915\n",
              "대구광역시       870\n",
              "전라북도        862\n",
              "충청남도        830\n",
              "전라남도        811\n",
              "강원도         729\n",
              "광주광역시       691\n",
              "충청북도        648\n",
              "대전광역시       603\n",
              "울산광역시       362\n",
              "제주특별자치도     226\n",
              "세종특별자치시      99\n",
              "Name: 상호명, dtype: int64"
            ]
          },
          "metadata": {},
          "execution_count": 22
        }
      ]
    },
    {
      "cell_type": "markdown",
      "source": [
        "# Q2. 여러분은 반려동물과 관련된 사업을 하는 스타트업에 취업을 하여 상권분석을 해달라는 요청을 받았습니다.\n",
        "### 병원이나 약국은 인구나 유동인구가 많은 지역에 주로 위치하고 있습니다. 그렇다면 동물병원도 병원이나 약국이 많은 곳에 더 많이 있을까요?\n",
        "\n",
        "\n",
        "* 빈도수를 구하고 시각화 하여 동물병원이 어느 지역에 많은지 분석해 주세요!"
      ],
      "metadata": {
        "id": "bGmY41vSkljV"
      }
    },
    {
      "cell_type": "code",
      "source": [
        "df.loc[df[\"상권업종소분류명\"] == \"동물병원\", \"시도명\"].value_counts()"
      ],
      "metadata": {
        "colab": {
          "base_uri": "https://localhost:8080/"
        },
        "id": "45Ea_dZbjDdy",
        "outputId": "32a1bbd7-4a8e-4574-fbf1-0bea8ca0a9d2"
      },
      "execution_count": null,
      "outputs": [
        {
          "output_type": "execute_result",
          "data": {
            "text/plain": [
              "경기도        992\n",
              "서울특별시      557\n",
              "인천광역시      193\n",
              "경상북도       165\n",
              "경상남도       161\n",
              "부산광역시      153\n",
              "충청남도       131\n",
              "대구광역시      119\n",
              "전라북도       111\n",
              "강원도         85\n",
              "대전광역시       77\n",
              "전라남도        77\n",
              "충청북도        75\n",
              "광주광역시       71\n",
              "울산광역시       61\n",
              "제주특별자치도     46\n",
              "세종특별자치시     13\n",
              "Name: 시도명, dtype: int64"
            ]
          },
          "metadata": {},
          "execution_count": 23
        }
      ]
    },
    {
      "cell_type": "markdown",
      "source": [
        "# 📌Q3. 강남지역에는 다른 지역에 비해 피부과나 성형외과가 많아 보입니다. 실제로 해당 지역에 피부과나 성형외과가 다른 지역에 비해 전체 병원 수 중에서 어느 정도의 비율을 차지하고 있는지 알아보겠습니다.\n",
        "\n",
        "* 서울에 소재한 병원 중 상권업종소분류명에 \"피부\" 나 \"성형\"이 들어간 분류명을 찾아 구해주세요!\n",
        "* 피부과 성형외과 수 / 전체병원 수 로 비율을 구해주세요!\n",
        "* 비율이 높은 순서대로 정렬되게 구해주세요!\n",
        "* 수업에서 사용한 같은 CSV 파일을 사용하며 다음의 결과가 나오도록 구합니다.\n",
        "* 소숫점 두 번째짜리까지 출력하는 방법은 pandas round 로 검색해서 사용법을 알아보세요!"
      ],
      "metadata": {
        "id": "Va-7NG0RlIj4"
      }
    },
    {
      "cell_type": "code",
      "source": [
        "df_seoul = df[df['시도명'] == '서울특별시']\n",
        "\n",
        "# Filter for '피부과 성형외과' clinics in Seoul\n",
        "df_seoul_skin_plastic = df_seoul[df_seoul['상권업종소분류명'].str.contains('피부|성형')]\n",
        "\n",
        "# Filter for '병원' clinics in Seoul\n",
        "df_seoul_hospital = df_seoul[df_seoul['상권업종중분류명'].str.contains('병원')]\n",
        "\n",
        "# Group by '시군구명' and count the number of clinics in each district\n",
        "skin_plastic_counts = df_seoul_skin_plastic.groupby('시군구명').size()\n",
        "total_hospitals = df_seoul_hospital.groupby('시군구명').size()\n",
        "\n",
        "# Concatenate to match '시군구명'\n",
        "result = pd.concat([skin_plastic_counts, total_hospitals], axis=1, keys=['Skin, Plastic', 'Total Hospitals'])\n",
        "\n",
        "result['Ratio'] = (result['Skin, Plastic'] / result['Total Hospitals']).round(2)\n",
        "result['Ratio'].sort_values(ascending=False)"
      ],
      "metadata": {
        "colab": {
          "base_uri": "https://localhost:8080/"
        },
        "id": "NBxSsUlrlIP1",
        "outputId": "bc74e015-c792-4331-b1ab-5742e9001f57"
      },
      "execution_count": null,
      "outputs": [
        {
          "output_type": "execute_result",
          "data": {
            "text/plain": [
              "시군구명\n",
              "강남구     0.24\n",
              "서초구     0.17\n",
              "마포구     0.09\n",
              "영등포구    0.08\n",
              "서대문구    0.08\n",
              "강서구     0.07\n",
              "강동구     0.07\n",
              "중구      0.07\n",
              "양천구     0.07\n",
              "중랑구     0.07\n",
              "성북구     0.06\n",
              "송파구     0.06\n",
              "구로구     0.06\n",
              "은평구     0.06\n",
              "광진구     0.06\n",
              "노원구     0.05\n",
              "성동구     0.05\n",
              "금천구     0.05\n",
              "용산구     0.05\n",
              "강북구     0.05\n",
              "동대문구    0.04\n",
              "동작구     0.04\n",
              "관악구     0.04\n",
              "종로구     0.03\n",
              "도봉구     0.02\n",
              "Name: Ratio, dtype: float64"
            ]
          },
          "metadata": {},
          "execution_count": 85
        }
      ]
    }
  ]
}